{
 "cells": [
  {
   "cell_type": "code",
   "execution_count": 1,
   "metadata": {},
   "outputs": [],
   "source": [
    "import tensorflow as tf\n",
    "import tensorflow.keras as keras\n",
    "import numpy as np\n",
    "import pandas as pd\n",
    "import matplotlib.pyplot as plt\n",
    "\n",
    "%matplotlib inline"
   ]
  },
  {
   "cell_type": "code",
   "execution_count": 4,
   "metadata": {},
   "outputs": [
    {
     "data": {
      "text/html": [
       "<div>\n",
       "<style scoped>\n",
       "    .dataframe tbody tr th:only-of-type {\n",
       "        vertical-align: middle;\n",
       "    }\n",
       "\n",
       "    .dataframe tbody tr th {\n",
       "        vertical-align: top;\n",
       "    }\n",
       "\n",
       "    .dataframe thead th {\n",
       "        text-align: right;\n",
       "    }\n",
       "</style>\n",
       "<table border=\"1\" class=\"dataframe\">\n",
       "  <thead>\n",
       "    <tr style=\"text-align: right;\">\n",
       "      <th></th>\n",
       "      <th>SepalLengthCm</th>\n",
       "      <th>SepalWidthCm</th>\n",
       "      <th>PetalLengthCm</th>\n",
       "      <th>PetalWidthCm</th>\n",
       "      <th>Species</th>\n",
       "    </tr>\n",
       "    <tr>\n",
       "      <th>Id</th>\n",
       "      <th></th>\n",
       "      <th></th>\n",
       "      <th></th>\n",
       "      <th></th>\n",
       "      <th></th>\n",
       "    </tr>\n",
       "  </thead>\n",
       "  <tbody>\n",
       "    <tr>\n",
       "      <th>1</th>\n",
       "      <td>5.1</td>\n",
       "      <td>3.5</td>\n",
       "      <td>1.4</td>\n",
       "      <td>0.2</td>\n",
       "      <td>Iris-setosa</td>\n",
       "    </tr>\n",
       "    <tr>\n",
       "      <th>2</th>\n",
       "      <td>4.9</td>\n",
       "      <td>3.0</td>\n",
       "      <td>1.4</td>\n",
       "      <td>0.2</td>\n",
       "      <td>Iris-setosa</td>\n",
       "    </tr>\n",
       "    <tr>\n",
       "      <th>3</th>\n",
       "      <td>4.7</td>\n",
       "      <td>3.2</td>\n",
       "      <td>1.3</td>\n",
       "      <td>0.2</td>\n",
       "      <td>Iris-setosa</td>\n",
       "    </tr>\n",
       "    <tr>\n",
       "      <th>4</th>\n",
       "      <td>4.6</td>\n",
       "      <td>3.1</td>\n",
       "      <td>1.5</td>\n",
       "      <td>0.2</td>\n",
       "      <td>Iris-setosa</td>\n",
       "    </tr>\n",
       "    <tr>\n",
       "      <th>5</th>\n",
       "      <td>5.0</td>\n",
       "      <td>3.6</td>\n",
       "      <td>1.4</td>\n",
       "      <td>0.2</td>\n",
       "      <td>Iris-setosa</td>\n",
       "    </tr>\n",
       "  </tbody>\n",
       "</table>\n",
       "</div>"
      ],
      "text/plain": [
       "    SepalLengthCm  SepalWidthCm  PetalLengthCm  PetalWidthCm      Species\n",
       "Id                                                                       \n",
       "1             5.1           3.5            1.4           0.2  Iris-setosa\n",
       "2             4.9           3.0            1.4           0.2  Iris-setosa\n",
       "3             4.7           3.2            1.3           0.2  Iris-setosa\n",
       "4             4.6           3.1            1.5           0.2  Iris-setosa\n",
       "5             5.0           3.6            1.4           0.2  Iris-setosa"
      ]
     },
     "execution_count": 4,
     "metadata": {},
     "output_type": "execute_result"
    }
   ],
   "source": [
    "iris = pd.read_csv('Iris.csv', index_col='Id')\n",
    "iris.head()"
   ]
  },
  {
   "cell_type": "code",
   "execution_count": 5,
   "metadata": {},
   "outputs": [
    {
     "name": "stdout",
     "output_type": "stream",
     "text": [
      "<class 'pandas.core.frame.DataFrame'>\n",
      "Int64Index: 150 entries, 1 to 150\n",
      "Data columns (total 5 columns):\n",
      "SepalLengthCm    150 non-null float64\n",
      "SepalWidthCm     150 non-null float64\n",
      "PetalLengthCm    150 non-null float64\n",
      "PetalWidthCm     150 non-null float64\n",
      "Species          150 non-null object\n",
      "dtypes: float64(4), object(1)\n",
      "memory usage: 7.0+ KB\n"
     ]
    }
   ],
   "source": [
    "iris.info()"
   ]
  },
  {
   "cell_type": "code",
   "execution_count": 6,
   "metadata": {},
   "outputs": [
    {
     "data": {
      "text/plain": [
       "array(['Iris-setosa', 'Iris-versicolor', 'Iris-virginica'], dtype=object)"
      ]
     },
     "execution_count": 6,
     "metadata": {},
     "output_type": "execute_result"
    }
   ],
   "source": [
    "from sklearn import preprocessing\n",
    "label_encoder = preprocessing.LabelEncoder()\n",
    "\n",
    "iris['Species'].unique()"
   ]
  },
  {
   "cell_type": "code",
   "execution_count": 9,
   "metadata": {},
   "outputs": [
    {
     "data": {
      "text/plain": [
       "array([0, 0, 0, 0, 0, 0, 0, 0, 0, 0, 0, 0, 0, 0, 0, 0, 0, 0, 0, 0, 0, 0,\n",
       "       0, 0, 0, 0, 0, 0, 0, 0, 0, 0, 0, 0, 0, 0, 0, 0, 0, 0, 0, 0, 0, 0,\n",
       "       0, 0, 0, 0, 0, 0, 1, 1, 1, 1, 1, 1, 1, 1, 1, 1, 1, 1, 1, 1, 1, 1,\n",
       "       1, 1, 1, 1, 1, 1, 1, 1, 1, 1, 1, 1, 1, 1, 1, 1, 1, 1, 1, 1, 1, 1,\n",
       "       1, 1, 1, 1, 1, 1, 1, 1, 1, 1, 1, 1, 2, 2, 2, 2, 2, 2, 2, 2, 2, 2,\n",
       "       2, 2, 2, 2, 2, 2, 2, 2, 2, 2, 2, 2, 2, 2, 2, 2, 2, 2, 2, 2, 2, 2,\n",
       "       2, 2, 2, 2, 2, 2, 2, 2, 2, 2, 2, 2, 2, 2, 2, 2, 2, 2])"
      ]
     },
     "execution_count": 9,
     "metadata": {},
     "output_type": "execute_result"
    }
   ],
   "source": [
    "label_encoder.fit_transform(iris['Species']) "
   ]
  },
  {
   "cell_type": "code",
   "execution_count": 12,
   "metadata": {},
   "outputs": [
    {
     "data": {
      "text/html": [
       "<div>\n",
       "<style scoped>\n",
       "    .dataframe tbody tr th:only-of-type {\n",
       "        vertical-align: middle;\n",
       "    }\n",
       "\n",
       "    .dataframe tbody tr th {\n",
       "        vertical-align: top;\n",
       "    }\n",
       "\n",
       "    .dataframe thead th {\n",
       "        text-align: right;\n",
       "    }\n",
       "</style>\n",
       "<table border=\"1\" class=\"dataframe\">\n",
       "  <thead>\n",
       "    <tr style=\"text-align: right;\">\n",
       "      <th></th>\n",
       "      <th>0</th>\n",
       "      <th>1</th>\n",
       "      <th>2</th>\n",
       "    </tr>\n",
       "    <tr>\n",
       "      <th>Id</th>\n",
       "      <th></th>\n",
       "      <th></th>\n",
       "      <th></th>\n",
       "    </tr>\n",
       "  </thead>\n",
       "  <tbody>\n",
       "    <tr>\n",
       "      <th>146</th>\n",
       "      <td>0</td>\n",
       "      <td>0</td>\n",
       "      <td>1</td>\n",
       "    </tr>\n",
       "    <tr>\n",
       "      <th>147</th>\n",
       "      <td>0</td>\n",
       "      <td>0</td>\n",
       "      <td>1</td>\n",
       "    </tr>\n",
       "    <tr>\n",
       "      <th>148</th>\n",
       "      <td>0</td>\n",
       "      <td>0</td>\n",
       "      <td>1</td>\n",
       "    </tr>\n",
       "    <tr>\n",
       "      <th>149</th>\n",
       "      <td>0</td>\n",
       "      <td>0</td>\n",
       "      <td>1</td>\n",
       "    </tr>\n",
       "    <tr>\n",
       "      <th>150</th>\n",
       "      <td>0</td>\n",
       "      <td>0</td>\n",
       "      <td>1</td>\n",
       "    </tr>\n",
       "  </tbody>\n",
       "</table>\n",
       "</div>"
      ],
      "text/plain": [
       "     0  1  2\n",
       "Id          \n",
       "146  0  0  1\n",
       "147  0  0  1\n",
       "148  0  0  1\n",
       "149  0  0  1\n",
       "150  0  0  1"
      ]
     },
     "execution_count": 12,
     "metadata": {},
     "output_type": "execute_result"
    }
   ],
   "source": [
    "iris['Species'] = label_encoder.fit_transform(iris['Species']) \n",
    "\n",
    "y = pd.get_dummies(iris['Species'])\n",
    "y.tail()"
   ]
  },
  {
   "cell_type": "code",
   "execution_count": 14,
   "metadata": {},
   "outputs": [
    {
     "data": {
      "text/html": [
       "<div>\n",
       "<style scoped>\n",
       "    .dataframe tbody tr th:only-of-type {\n",
       "        vertical-align: middle;\n",
       "    }\n",
       "\n",
       "    .dataframe tbody tr th {\n",
       "        vertical-align: top;\n",
       "    }\n",
       "\n",
       "    .dataframe thead th {\n",
       "        text-align: right;\n",
       "    }\n",
       "</style>\n",
       "<table border=\"1\" class=\"dataframe\">\n",
       "  <thead>\n",
       "    <tr style=\"text-align: right;\">\n",
       "      <th></th>\n",
       "      <th>SepalLengthCm</th>\n",
       "      <th>SepalWidthCm</th>\n",
       "      <th>PetalLengthCm</th>\n",
       "      <th>PetalWidthCm</th>\n",
       "    </tr>\n",
       "    <tr>\n",
       "      <th>Id</th>\n",
       "      <th></th>\n",
       "      <th></th>\n",
       "      <th></th>\n",
       "      <th></th>\n",
       "    </tr>\n",
       "  </thead>\n",
       "  <tbody>\n",
       "    <tr>\n",
       "      <th>1</th>\n",
       "      <td>5.1</td>\n",
       "      <td>3.5</td>\n",
       "      <td>1.4</td>\n",
       "      <td>0.2</td>\n",
       "    </tr>\n",
       "    <tr>\n",
       "      <th>2</th>\n",
       "      <td>4.9</td>\n",
       "      <td>3.0</td>\n",
       "      <td>1.4</td>\n",
       "      <td>0.2</td>\n",
       "    </tr>\n",
       "    <tr>\n",
       "      <th>3</th>\n",
       "      <td>4.7</td>\n",
       "      <td>3.2</td>\n",
       "      <td>1.3</td>\n",
       "      <td>0.2</td>\n",
       "    </tr>\n",
       "    <tr>\n",
       "      <th>4</th>\n",
       "      <td>4.6</td>\n",
       "      <td>3.1</td>\n",
       "      <td>1.5</td>\n",
       "      <td>0.2</td>\n",
       "    </tr>\n",
       "    <tr>\n",
       "      <th>5</th>\n",
       "      <td>5.0</td>\n",
       "      <td>3.6</td>\n",
       "      <td>1.4</td>\n",
       "      <td>0.2</td>\n",
       "    </tr>\n",
       "  </tbody>\n",
       "</table>\n",
       "</div>"
      ],
      "text/plain": [
       "    SepalLengthCm  SepalWidthCm  PetalLengthCm  PetalWidthCm\n",
       "Id                                                          \n",
       "1             5.1           3.5            1.4           0.2\n",
       "2             4.9           3.0            1.4           0.2\n",
       "3             4.7           3.2            1.3           0.2\n",
       "4             4.6           3.1            1.5           0.2\n",
       "5             5.0           3.6            1.4           0.2"
      ]
     },
     "execution_count": 14,
     "metadata": {},
     "output_type": "execute_result"
    }
   ],
   "source": [
    "x = iris.drop(['Species'], axis=1)\n",
    "x.head()"
   ]
  },
  {
   "cell_type": "code",
   "execution_count": 15,
   "metadata": {},
   "outputs": [
    {
     "data": {
      "text/html": [
       "<div>\n",
       "<style scoped>\n",
       "    .dataframe tbody tr th:only-of-type {\n",
       "        vertical-align: middle;\n",
       "    }\n",
       "\n",
       "    .dataframe tbody tr th {\n",
       "        vertical-align: top;\n",
       "    }\n",
       "\n",
       "    .dataframe thead th {\n",
       "        text-align: right;\n",
       "    }\n",
       "</style>\n",
       "<table border=\"1\" class=\"dataframe\">\n",
       "  <thead>\n",
       "    <tr style=\"text-align: right;\">\n",
       "      <th></th>\n",
       "      <th>SepalLengthCm</th>\n",
       "      <th>SepalWidthCm</th>\n",
       "      <th>PetalLengthCm</th>\n",
       "      <th>PetalWidthCm</th>\n",
       "    </tr>\n",
       "  </thead>\n",
       "  <tbody>\n",
       "    <tr>\n",
       "      <th>count</th>\n",
       "      <td>150.000000</td>\n",
       "      <td>150.000000</td>\n",
       "      <td>150.000000</td>\n",
       "      <td>150.000000</td>\n",
       "    </tr>\n",
       "    <tr>\n",
       "      <th>mean</th>\n",
       "      <td>5.843333</td>\n",
       "      <td>3.054000</td>\n",
       "      <td>3.758667</td>\n",
       "      <td>1.198667</td>\n",
       "    </tr>\n",
       "    <tr>\n",
       "      <th>std</th>\n",
       "      <td>0.828066</td>\n",
       "      <td>0.433594</td>\n",
       "      <td>1.764420</td>\n",
       "      <td>0.763161</td>\n",
       "    </tr>\n",
       "    <tr>\n",
       "      <th>min</th>\n",
       "      <td>4.300000</td>\n",
       "      <td>2.000000</td>\n",
       "      <td>1.000000</td>\n",
       "      <td>0.100000</td>\n",
       "    </tr>\n",
       "    <tr>\n",
       "      <th>25%</th>\n",
       "      <td>5.100000</td>\n",
       "      <td>2.800000</td>\n",
       "      <td>1.600000</td>\n",
       "      <td>0.300000</td>\n",
       "    </tr>\n",
       "    <tr>\n",
       "      <th>50%</th>\n",
       "      <td>5.800000</td>\n",
       "      <td>3.000000</td>\n",
       "      <td>4.350000</td>\n",
       "      <td>1.300000</td>\n",
       "    </tr>\n",
       "    <tr>\n",
       "      <th>75%</th>\n",
       "      <td>6.400000</td>\n",
       "      <td>3.300000</td>\n",
       "      <td>5.100000</td>\n",
       "      <td>1.800000</td>\n",
       "    </tr>\n",
       "    <tr>\n",
       "      <th>max</th>\n",
       "      <td>7.900000</td>\n",
       "      <td>4.400000</td>\n",
       "      <td>6.900000</td>\n",
       "      <td>2.500000</td>\n",
       "    </tr>\n",
       "  </tbody>\n",
       "</table>\n",
       "</div>"
      ],
      "text/plain": [
       "       SepalLengthCm  SepalWidthCm  PetalLengthCm  PetalWidthCm\n",
       "count     150.000000    150.000000     150.000000    150.000000\n",
       "mean        5.843333      3.054000       3.758667      1.198667\n",
       "std         0.828066      0.433594       1.764420      0.763161\n",
       "min         4.300000      2.000000       1.000000      0.100000\n",
       "25%         5.100000      2.800000       1.600000      0.300000\n",
       "50%         5.800000      3.000000       4.350000      1.300000\n",
       "75%         6.400000      3.300000       5.100000      1.800000\n",
       "max         7.900000      4.400000       6.900000      2.500000"
      ]
     },
     "execution_count": 15,
     "metadata": {},
     "output_type": "execute_result"
    }
   ],
   "source": [
    "x.describe()"
   ]
  },
  {
   "cell_type": "markdown",
   "metadata": {},
   "source": [
    "#min_max -> 0 & 1\n",
    "#stdScalar -> -1 & 1\n",
    "#from sklearn.preprocessing import MinMaxScaler\n",
    "\n",
    "#min_max = MinMaxScaler()\n",
    "#x = min_max.fit_transform(x)"
   ]
  },
  {
   "cell_type": "code",
   "execution_count": 16,
   "metadata": {},
   "outputs": [],
   "source": [
    "from sklearn.model_selection import train_test_split\n",
    "\n",
    "x_train, x_test, y_train, y_test = train_test_split(x, y, test_size=0.2, random_state=2)"
   ]
  },
  {
   "cell_type": "code",
   "execution_count": 17,
   "metadata": {},
   "outputs": [],
   "source": [
    "def make_model():\n",
    "    model = keras.models.Sequential()\n",
    "    \n",
    "    model.add(keras.layers.Dense(units=10, activation='relu', input_shape=(4,)))\n",
    "    model.add(keras.layers.Dense(8, activation='relu'))\n",
    "    model.add(keras.layers.Dense(6, activation='relu'))\n",
    "    model.add(keras.layers.Dense(3, activation='softmax'))\n",
    "    \n",
    "    optimizer = keras.optimizers.Adam(lr=0.04)\n",
    "    loss = keras.losses.categorical_crossentropy\n",
    "    metrics = [\"accuracy\"]\n",
    "    \n",
    "    model.compile(optimizer=optimizer, loss=loss, metrics=metrics)\n",
    "    return model\n",
    "\n",
    "model = make_model()"
   ]
  },
  {
   "cell_type": "code",
   "execution_count": 20,
   "metadata": {},
   "outputs": [
    {
     "name": "stdout",
     "output_type": "stream",
     "text": [
      "Train on 102 samples, validate on 18 samples\n",
      "Epoch 1/100\n",
      " - 0s - loss: 0.1047 - acc: 0.9608 - val_loss: 0.1336 - val_acc: 0.9444\n",
      "Epoch 2/100\n",
      " - 0s - loss: 0.0931 - acc: 0.9608 - val_loss: 0.0579 - val_acc: 1.0000\n",
      "Epoch 3/100\n",
      " - 0s - loss: 0.0934 - acc: 0.9706 - val_loss: 0.0541 - val_acc: 1.0000\n",
      "Epoch 4/100\n",
      " - 0s - loss: 0.0650 - acc: 0.9804 - val_loss: 0.1047 - val_acc: 0.9444\n",
      "Epoch 5/100\n",
      " - 0s - loss: 0.0919 - acc: 0.9608 - val_loss: 0.1189 - val_acc: 0.9444\n",
      "Epoch 6/100\n",
      " - 0s - loss: 0.0867 - acc: 0.9608 - val_loss: 0.0568 - val_acc: 0.9444\n",
      "Epoch 7/100\n",
      " - 0s - loss: 0.0803 - acc: 0.9706 - val_loss: 0.0837 - val_acc: 0.9444\n",
      "Epoch 8/100\n",
      " - 0s - loss: 0.1174 - acc: 0.9608 - val_loss: 0.2938 - val_acc: 0.8889\n",
      "Epoch 9/100\n",
      " - 0s - loss: 0.2319 - acc: 0.8824 - val_loss: 0.0501 - val_acc: 1.0000\n",
      "Epoch 10/100\n",
      " - 0s - loss: 0.1335 - acc: 0.9608 - val_loss: 0.0457 - val_acc: 1.0000\n",
      "Epoch 11/100\n",
      " - 0s - loss: 0.0986 - acc: 0.9608 - val_loss: 0.0994 - val_acc: 0.9444\n",
      "Epoch 12/100\n",
      " - 0s - loss: 0.0780 - acc: 0.9706 - val_loss: 0.0900 - val_acc: 0.9444\n",
      "Epoch 13/100\n",
      " - 0s - loss: 0.0679 - acc: 0.9706 - val_loss: 0.0592 - val_acc: 0.9444\n",
      "Epoch 14/100\n",
      " - 0s - loss: 0.0668 - acc: 0.9804 - val_loss: 0.0528 - val_acc: 0.9444\n",
      "Epoch 15/100\n",
      " - 0s - loss: 0.0666 - acc: 0.9706 - val_loss: 0.0524 - val_acc: 0.9444\n",
      "Epoch 16/100\n",
      " - 0s - loss: 0.0728 - acc: 0.9706 - val_loss: 0.0411 - val_acc: 1.0000\n",
      "Epoch 17/100\n",
      " - 0s - loss: 0.0603 - acc: 0.9706 - val_loss: 0.1269 - val_acc: 0.9444\n",
      "Epoch 18/100\n",
      " - 0s - loss: 0.0825 - acc: 0.9706 - val_loss: 0.0693 - val_acc: 0.9444\n",
      "Epoch 19/100\n",
      " - 0s - loss: 0.0576 - acc: 0.9706 - val_loss: 0.0362 - val_acc: 1.0000\n",
      "Epoch 20/100\n",
      " - 0s - loss: 0.0597 - acc: 0.9804 - val_loss: 0.0315 - val_acc: 1.0000\n",
      "Epoch 21/100\n",
      " - 0s - loss: 0.0686 - acc: 0.9804 - val_loss: 0.0352 - val_acc: 1.0000\n",
      "Epoch 22/100\n",
      " - 0s - loss: 0.0591 - acc: 0.9804 - val_loss: 0.0614 - val_acc: 0.9444\n",
      "Epoch 23/100\n",
      " - 0s - loss: 0.0589 - acc: 0.9706 - val_loss: 0.0360 - val_acc: 1.0000\n",
      "Epoch 24/100\n",
      " - 0s - loss: 0.0751 - acc: 0.9706 - val_loss: 0.0412 - val_acc: 1.0000\n",
      "Epoch 25/100\n",
      " - 0s - loss: 0.0570 - acc: 0.9804 - val_loss: 0.0988 - val_acc: 0.9444\n",
      "Epoch 26/100\n",
      " - 0s - loss: 0.0660 - acc: 0.9706 - val_loss: 0.0370 - val_acc: 1.0000\n",
      "Epoch 27/100\n",
      " - 0s - loss: 0.0639 - acc: 0.9706 - val_loss: 0.0168 - val_acc: 1.0000\n",
      "Epoch 28/100\n",
      " - 0s - loss: 0.0545 - acc: 0.9706 - val_loss: 0.0985 - val_acc: 0.9444\n",
      "Epoch 29/100\n",
      " - 0s - loss: 0.0787 - acc: 0.9706 - val_loss: 0.0672 - val_acc: 0.9444\n",
      "Epoch 30/100\n",
      " - 0s - loss: 0.0571 - acc: 0.9804 - val_loss: 0.0154 - val_acc: 1.0000\n",
      "Epoch 31/100\n",
      " - 0s - loss: 0.0737 - acc: 0.9706 - val_loss: 0.0478 - val_acc: 0.9444\n",
      "Epoch 32/100\n",
      " - 0s - loss: 0.0584 - acc: 0.9804 - val_loss: 0.0522 - val_acc: 0.9444\n",
      "Epoch 33/100\n",
      " - 0s - loss: 0.0562 - acc: 0.9804 - val_loss: 0.0281 - val_acc: 1.0000\n",
      "Epoch 34/100\n",
      " - 0s - loss: 0.0558 - acc: 0.9706 - val_loss: 0.0209 - val_acc: 1.0000\n",
      "Epoch 35/100\n",
      " - 0s - loss: 0.0829 - acc: 0.9608 - val_loss: 0.0271 - val_acc: 1.0000\n",
      "Epoch 36/100\n",
      " - 0s - loss: 0.0505 - acc: 0.9804 - val_loss: 0.0775 - val_acc: 0.9444\n",
      "Epoch 37/100\n",
      " - 0s - loss: 0.0640 - acc: 0.9706 - val_loss: 0.0618 - val_acc: 0.9444\n",
      "Epoch 38/100\n",
      " - 0s - loss: 0.0598 - acc: 0.9804 - val_loss: 0.0452 - val_acc: 0.9444\n",
      "Epoch 39/100\n",
      " - 0s - loss: 0.0629 - acc: 0.9804 - val_loss: 0.0298 - val_acc: 1.0000\n",
      "Epoch 40/100\n",
      " - 0s - loss: 0.1348 - acc: 0.9412 - val_loss: 0.1031 - val_acc: 0.9444\n",
      "Epoch 41/100\n",
      " - 0s - loss: 0.2836 - acc: 0.9020 - val_loss: 0.3481 - val_acc: 0.8889\n",
      "Epoch 42/100\n",
      " - 0s - loss: 0.2680 - acc: 0.8824 - val_loss: 0.3519 - val_acc: 0.7222\n",
      "Epoch 43/100\n",
      " - 0s - loss: 0.3577 - acc: 0.8039 - val_loss: 0.0894 - val_acc: 0.9444\n",
      "Epoch 44/100\n",
      " - 0s - loss: 0.1171 - acc: 0.9608 - val_loss: 0.2181 - val_acc: 0.8889\n",
      "Epoch 45/100\n",
      " - 0s - loss: 0.1872 - acc: 0.8922 - val_loss: 0.0759 - val_acc: 0.9444\n",
      "Epoch 46/100\n",
      " - 0s - loss: 0.0921 - acc: 0.9706 - val_loss: 0.0800 - val_acc: 1.0000\n",
      "Epoch 47/100\n",
      " - 0s - loss: 0.1303 - acc: 0.9510 - val_loss: 0.0616 - val_acc: 0.9444\n",
      "Epoch 48/100\n",
      " - 0s - loss: 0.0699 - acc: 0.9706 - val_loss: 0.1054 - val_acc: 0.9444\n",
      "Epoch 49/100\n",
      " - 0s - loss: 0.0836 - acc: 0.9706 - val_loss: 0.0783 - val_acc: 0.9444\n",
      "Epoch 50/100\n",
      " - 0s - loss: 0.0649 - acc: 0.9608 - val_loss: 0.0329 - val_acc: 1.0000\n",
      "Epoch 51/100\n",
      " - 0s - loss: 0.0872 - acc: 0.9804 - val_loss: 0.0638 - val_acc: 0.9444\n",
      "Epoch 52/100\n",
      " - 0s - loss: 0.0817 - acc: 0.9706 - val_loss: 0.1343 - val_acc: 0.9444\n",
      "Epoch 53/100\n",
      " - 0s - loss: 0.0696 - acc: 0.9706 - val_loss: 0.0497 - val_acc: 0.9444\n",
      "Epoch 54/100\n",
      " - 0s - loss: 0.0676 - acc: 0.9804 - val_loss: 0.0309 - val_acc: 1.0000\n",
      "Epoch 55/100\n",
      " - 0s - loss: 0.0980 - acc: 0.9608 - val_loss: 0.0638 - val_acc: 0.9444\n",
      "Epoch 56/100\n",
      " - 0s - loss: 0.0822 - acc: 0.9706 - val_loss: 0.0791 - val_acc: 0.9444\n",
      "Epoch 57/100\n",
      " - 0s - loss: 0.1006 - acc: 0.9706 - val_loss: 0.0534 - val_acc: 1.0000\n",
      "Epoch 58/100\n",
      " - 0s - loss: 0.1220 - acc: 0.9608 - val_loss: 0.0932 - val_acc: 0.9444\n",
      "Epoch 59/100\n",
      " - 0s - loss: 0.0900 - acc: 0.9706 - val_loss: 0.1567 - val_acc: 0.9444\n",
      "Epoch 60/100\n",
      " - 0s - loss: 0.0922 - acc: 0.9706 - val_loss: 0.0609 - val_acc: 0.9444\n",
      "Epoch 61/100\n",
      " - 0s - loss: 0.0587 - acc: 0.9804 - val_loss: 0.0591 - val_acc: 1.0000\n",
      "Epoch 62/100\n",
      " - 0s - loss: 0.1417 - acc: 0.9412 - val_loss: 0.0723 - val_acc: 0.9444\n",
      "Epoch 63/100\n",
      " - 0s - loss: 0.0643 - acc: 0.9706 - val_loss: 0.1675 - val_acc: 0.9444\n",
      "Epoch 64/100\n",
      " - 0s - loss: 0.1082 - acc: 0.9608 - val_loss: 0.0782 - val_acc: 0.9444\n",
      "Epoch 65/100\n",
      " - 0s - loss: 0.0620 - acc: 0.9804 - val_loss: 0.0387 - val_acc: 1.0000\n",
      "Epoch 66/100\n",
      " - 0s - loss: 0.0669 - acc: 0.9706 - val_loss: 0.0789 - val_acc: 0.9444\n",
      "Epoch 67/100\n",
      " - 0s - loss: 0.0633 - acc: 0.9706 - val_loss: 0.0983 - val_acc: 0.9444\n",
      "Epoch 68/100\n",
      " - 0s - loss: 0.0667 - acc: 0.9706 - val_loss: 0.0569 - val_acc: 0.9444\n",
      "Epoch 69/100\n",
      " - 0s - loss: 0.0544 - acc: 0.9804 - val_loss: 0.0226 - val_acc: 1.0000\n",
      "Epoch 70/100\n",
      " - 0s - loss: 0.0886 - acc: 0.9706 - val_loss: 0.0477 - val_acc: 0.9444\n",
      "Epoch 71/100\n",
      " - 0s - loss: 0.0654 - acc: 0.9706 - val_loss: 0.1084 - val_acc: 0.9444\n",
      "Epoch 72/100\n",
      " - 0s - loss: 0.0694 - acc: 0.9706 - val_loss: 0.0818 - val_acc: 0.9444\n",
      "Epoch 73/100\n",
      " - 0s - loss: 0.0522 - acc: 0.9804 - val_loss: 0.0208 - val_acc: 1.0000\n",
      "Epoch 74/100\n",
      " - 0s - loss: 0.0676 - acc: 0.9706 - val_loss: 0.0746 - val_acc: 0.9444\n",
      "Epoch 75/100\n",
      " - 0s - loss: 0.0607 - acc: 0.9804 - val_loss: 0.1054 - val_acc: 0.9444\n",
      "Epoch 76/100\n",
      " - 0s - loss: 0.0897 - acc: 0.9706 - val_loss: 0.1185 - val_acc: 0.9444\n",
      "Epoch 77/100\n",
      " - 0s - loss: 0.0567 - acc: 0.9804 - val_loss: 0.0247 - val_acc: 1.0000\n",
      "Epoch 78/100\n",
      " - 0s - loss: 0.1365 - acc: 0.9706 - val_loss: 0.0756 - val_acc: 0.9444\n",
      "Epoch 79/100\n",
      " - 0s - loss: 0.0871 - acc: 0.9706 - val_loss: 0.1770 - val_acc: 0.9444\n",
      "Epoch 80/100\n",
      " - 0s - loss: 0.0897 - acc: 0.9608 - val_loss: 0.0491 - val_acc: 0.9444\n",
      "Epoch 81/100\n",
      " - 0s - loss: 0.0917 - acc: 0.9608 - val_loss: 0.0336 - val_acc: 1.0000\n",
      "Epoch 82/100\n",
      " - 0s - loss: 0.0622 - acc: 0.9706 - val_loss: 0.1349 - val_acc: 0.9444\n",
      "Epoch 83/100\n",
      " - 0s - loss: 0.0941 - acc: 0.9706 - val_loss: 0.1002 - val_acc: 0.9444\n",
      "Epoch 84/100\n",
      " - 0s - loss: 0.0687 - acc: 0.9706 - val_loss: 0.0461 - val_acc: 1.0000\n",
      "Epoch 85/100\n",
      " - 0s - loss: 0.0630 - acc: 0.9804 - val_loss: 0.0496 - val_acc: 0.9444\n",
      "Epoch 86/100\n",
      " - 0s - loss: 0.0568 - acc: 0.9706 - val_loss: 0.0712 - val_acc: 0.9444\n",
      "Epoch 87/100\n",
      " - 0s - loss: 0.0604 - acc: 0.9706 - val_loss: 0.0482 - val_acc: 0.9444\n",
      "Epoch 88/100\n",
      " - 0s - loss: 0.0698 - acc: 0.9804 - val_loss: 0.0267 - val_acc: 1.0000\n",
      "Epoch 89/100\n",
      " - 0s - loss: 0.0618 - acc: 0.9804 - val_loss: 0.0779 - val_acc: 0.9444\n",
      "Epoch 90/100\n",
      " - 0s - loss: 0.0723 - acc: 0.9706 - val_loss: 0.1175 - val_acc: 0.9444\n",
      "Epoch 91/100\n",
      " - 0s - loss: 0.0777 - acc: 0.9706 - val_loss: 0.0706 - val_acc: 0.9444\n",
      "Epoch 92/100\n",
      " - 0s - loss: 0.0626 - acc: 0.9608 - val_loss: 0.0767 - val_acc: 0.9444\n",
      "Epoch 93/100\n",
      " - 0s - loss: 0.0852 - acc: 0.9706 - val_loss: 0.1621 - val_acc: 0.9444\n",
      "Epoch 94/100\n",
      " - 0s - loss: 0.0859 - acc: 0.9608 - val_loss: 0.0469 - val_acc: 0.9444\n",
      "Epoch 95/100\n",
      " - 0s - loss: 0.0679 - acc: 0.9706 - val_loss: 0.0385 - val_acc: 1.0000\n",
      "Epoch 96/100\n",
      " - 0s - loss: 0.0676 - acc: 0.9804 - val_loss: 0.0517 - val_acc: 0.9444\n"
     ]
    },
    {
     "name": "stdout",
     "output_type": "stream",
     "text": [
      "Epoch 97/100\n",
      " - 0s - loss: 0.0628 - acc: 0.9804 - val_loss: 0.0427 - val_acc: 1.0000\n",
      "Epoch 98/100\n",
      " - 0s - loss: 0.0614 - acc: 0.9804 - val_loss: 0.0717 - val_acc: 0.9444\n",
      "Epoch 99/100\n",
      " - 0s - loss: 0.0592 - acc: 0.9706 - val_loss: 0.0734 - val_acc: 0.9444\n",
      "Epoch 100/100\n",
      " - 0s - loss: 0.0601 - acc: 0.9706 - val_loss: 0.0732 - val_acc: 0.9444\n"
     ]
    },
    {
     "data": {
      "text/plain": [
       "<tensorflow.python.keras.callbacks.History at 0x195fd2a07f0>"
      ]
     },
     "execution_count": 20,
     "metadata": {},
     "output_type": "execute_result"
    }
   ],
   "source": [
    "model.fit(x_train, y_train, epochs=100, verbose=2, validation_split=.15)"
   ]
  },
  {
   "cell_type": "code",
   "execution_count": 21,
   "metadata": {},
   "outputs": [
    {
     "data": {
      "text/plain": [
       "[<matplotlib.lines.Line2D at 0x19595f5c8d0>]"
      ]
     },
     "execution_count": 21,
     "metadata": {},
     "output_type": "execute_result"
    },
    {
     "data": {
      "image/png": "[encoded data removed]",
      "text/plain": [
       "<Figure size 432x288 with 1 Axes>"
      ]
     },
     "metadata": {
      "needs_background": "light"
     },
     "output_type": "display_data"
    }
   ],
   "source": [
    "plt.plot(model.history.history['loss'])"
   ]
  },
  {
   "cell_type": "code",
   "execution_count": 25,
   "metadata": {},
   "outputs": [],
   "source": [
    "from sklearn.metrics import mean_absolute_error as mae\n",
    "\n",
    "y_pred = model.predict(x_test)"
   ]
  },
  {
   "cell_type": "code",
   "execution_count": 26,
   "metadata": {},
   "outputs": [
    {
     "data": {
      "text/plain": [
       "0.019441906"
      ]
     },
     "execution_count": 26,
     "metadata": {},
     "output_type": "execute_result"
    }
   ],
   "source": [
    "mae(y_test, y_pred)"
   ]
  },
  {
   "cell_type": "code",
   "execution_count": 31,
   "metadata": {},
   "outputs": [],
   "source": [
    "from sklearn import metrics"
   ]
  },
  {
   "cell_type": "code",
   "execution_count": 34,
   "metadata": {},
   "outputs": [
    {
     "data": {
      "text/plain": [
       "0.0073493146"
      ]
     },
     "execution_count": 34,
     "metadata": {},
     "output_type": "execute_result"
    }
   ],
   "source": [
    "metrics.mean_squared_error(y_test, y_pred)"
   ]
  },
  {
   "cell_type": "code",
   "execution_count": null,
   "metadata": {},
   "outputs": [],
   "source": []
  }
 ],
 "metadata": {
  "kernelspec": {
   "display_name": "Python 3",
   "language": "python",
   "name": "python3"
  },
  "language_info": {
   "codemirror_mode": {
    "name": "ipython",
    "version": 3
   },
   "file_extension": ".py",
   "mimetype": "text/x-python",
   "name": "python",
   "nbconvert_exporter": "python",
   "pygments_lexer": "ipython3",
   "version": "3.6.5"
  }
 },
 "nbformat": 4,
 "nbformat_minor": 2
}
